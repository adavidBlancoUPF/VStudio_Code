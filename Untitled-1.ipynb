{
 "cells": [
  {
   "cell_type": "code",
   "execution_count": 1,
   "metadata": {},
   "outputs": [
    {
     "name": "stdout",
     "output_type": "stream",
     "text": [
      "Hello World\n",
      "hello 0 Hey\n",
      "hello 1 Hey\n",
      "hello 2 Hey\n",
      "hello 3 Hey\n",
      "hello 4 Hey\n",
      "hello 5 Hey\n",
      "hello 6 Hey\n",
      "hello 7 Hey\n",
      "hello 8 Hey\n",
      "hello 9 Hey\n",
      "hello 10 Hey\n",
      "hello 11 Hey\n",
      "hello 12 Hey\n",
      "hello 13 Hey\n",
      "hello 14 Hey\n",
      "hello 15 Hey\n",
      "hello 16 Hey\n",
      "hello 17 Hey\n",
      "hello 18 Hey\n",
      "hello 19 Hey\n"
     ]
    }
   ],
   "source": [
    "var = \"Hello World\"\n",
    "print(var)\n",
    "\n",
    "for i in range(20):\n",
    "    print(\"hello\" , i, \"Hey\")\n"
   ]
  },
  {
   "cell_type": "markdown",
   "metadata": {},
   "source": [
    "hello"
   ]
  },
  {
   "cell_type": "code",
   "execution_count": null,
   "metadata": {},
   "outputs": [],
   "source": []
  }
 ],
 "metadata": {
  "interpreter": {
   "hash": "b89b5cfaba6639976dc87ff2fec6d58faec662063367e2c229c520fe71072417"
  },
  "kernelspec": {
   "display_name": "Python 3.10.4 64-bit",
   "language": "python",
   "name": "python3"
  },
  "language_info": {
   "codemirror_mode": {
    "name": "ipython",
    "version": 3
   },
   "file_extension": ".py",
   "mimetype": "text/x-python",
   "name": "python",
   "nbconvert_exporter": "python",
   "pygments_lexer": "ipython3",
   "version": "3.10.4"
  },
  "orig_nbformat": 4
 },
 "nbformat": 4,
 "nbformat_minor": 2
}
